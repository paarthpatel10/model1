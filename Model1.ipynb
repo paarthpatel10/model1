{
  "nbformat": 4,
  "nbformat_minor": 0,
  "metadata": {
    "colab": {
      "provenance": [],
      "authorship_tag": "ABX9TyMl8B6lR5JXXJpM5PbK12YV",
      "include_colab_link": true
    },
    "kernelspec": {
      "name": "python3",
      "display_name": "Python 3"
    },
    "language_info": {
      "name": "python"
    }
  },
  "cells": [
    {
      "cell_type": "markdown",
      "metadata": {
        "id": "view-in-github",
        "colab_type": "text"
      },
      "source": [
        "<a href=\"https://colab.research.google.com/github/paarthpatel10/model1/blob/main/Model1.ipynb\" target=\"_parent\"><img src=\"https://colab.research.google.com/assets/colab-badge.svg\" alt=\"Open In Colab\"/></a>"
      ]
    },
    {
      "cell_type": "code",
      "execution_count": null,
      "metadata": {
        "id": "pM2LYHi7Vvc-"
      },
      "outputs": [],
      "source": [
        "import pandas as pd\n",
        "from sklearn.linear_model import LinearRegression\n",
        "from sklearn.neighbors import KNeighborsRegressor\n",
        "from sklearn.ensemble import RandomForestRegressor\n",
        "from sklearn.linear_model import Ridge\n",
        "from sklearn.model_selection import train_test_split\n",
        "from sklearn.pipeline import Pipeline\n",
        "from sklearn.metrics import mean_squared_error, r2_score\n",
        "from sklearn.compose import ColumnTransformer\n",
        "from sklearn.preprocessing import StandardScaler, OneHotEncoder\n",
        "from sklearn.model_selection import train_test_split\n",
        "import numpy as np"
      ]
    },
    {
      "cell_type": "code",
      "source": [
        "# importing dataset\n",
        "df = pd.read_csv('/content/crop_yield.csv')"
      ],
      "metadata": {
        "id": "rLKQ1Sm4V3dd"
      },
      "execution_count": null,
      "outputs": []
    },
    {
      "cell_type": "code",
      "source": [
        "#filtering data whose area is less than 1000 hectares\n",
        "new_df= df[df['Area']>=1000]\n",
        "len(new_df)\n",
        "new_df= new_df[new_df['Production']>=1000]\n",
        "len(new_df)\n",
        "new_df= new_df[new_df['Pesticide']>=1000]\n",
        "len(new_df)\n",
        "new_df= new_df[new_df['Fertilizer']>=1000]\n",
        "len(new_df)"
      ],
      "metadata": {
        "colab": {
          "base_uri": "https://localhost:8080/"
        },
        "id": "Q40hG0UEV90D",
        "outputId": "fc0d40a7-1680-47b6-95e7-3ff92a8a6ca7"
      },
      "execution_count": null,
      "outputs": [
        {
          "output_type": "execute_result",
          "data": {
            "text/plain": [
              "12234"
            ]
          },
          "metadata": {},
          "execution_count": 4
        }
      ]
    },
    {
      "cell_type": "code",
      "source": [
        "X = new_df.drop('Yield', axis=1)\n",
        "y = new_df[\"Yield\"]\n",
        "#Splitting off the test set (10% of the total data)\n",
        "X_train_full, X_test, y_train_full, y_test = train_test_split(X, y, test_size=0.1, random_state=42)\n",
        "\n",
        "#Splitting the remaining data into training set (80% of total) and validation set (10% of total)\n",
        "X_train, X_val, y_train, y_val = train_test_split(X_train_full, y_train_full, test_size=0.1, random_state=42)\n",
        "# 80% * 0.1111 = 10% (validation)"
      ],
      "metadata": {
        "id": "DZloaXhFWHj6"
      },
      "execution_count": null,
      "outputs": []
    },
    {
      "cell_type": "code",
      "source": [
        "from sklearn.linear_model import LinearRegression\n",
        "from sklearn.pipeline import Pipeline\n",
        "from sklearn.metrics import mean_squared_error, r2_score\n",
        "from sklearn.compose import ColumnTransformer\n",
        "from sklearn.preprocessing import StandardScaler, OneHotEncoder\n",
        "from sklearn.model_selection import train_test_split\n",
        "import numpy as np\n",
        "\n",
        "# Categorical and numerical features\n",
        "categorical_features =['Crop', 'Season', 'State', 'Crop_Year']\n",
        "numerical_features = [\"Area\", \"Production\", \"Annual_Rainfall\", \"Fertilizer\", \"Pesticide\"]\n",
        "\n",
        "# Pipeline for preprocessing (OneHot for categorical and scaling for numerical)\n",
        "one_hot = OneHotEncoder(sparse_output=False, handle_unknown=\"ignore\")\n",
        "std_sca = StandardScaler()\n",
        "\n",
        "# Preprocessing pipeline\n",
        "transformer = ColumnTransformer([(\"One_hot\", one_hot, categorical_features),\n",
        "                                 (\"std_sca\", std_sca, numerical_features)],\n",
        "                                remainder=\"passthrough\")"
      ],
      "metadata": {
        "id": "7jwAS0Q4WJ0h"
      },
      "execution_count": null,
      "outputs": []
    },
    {
      "cell_type": "code",
      "source": [
        "import warnings\n",
        "warnings.filterwarnings('ignore')  # Ignore all warnings\n",
        "\n",
        "from sklearn.experimental import enable_halving_search_cv  # Enable HalvingRandomSearchCV\n",
        "from sklearn.model_selection import HalvingRandomSearchCV, RandomizedSearchCV, GridSearchCV\n",
        "from sklearn.linear_model import Ridge, LinearRegression\n",
        "from sklearn.neighbors import KNeighborsRegressor\n",
        "from sklearn.ensemble import RandomForestRegressor\n",
        "from sklearn.pipeline import Pipeline\n",
        "from sklearn.metrics import mean_squared_error, mean_absolute_error, r2_score, median_absolute_error\n",
        "from sklearn.model_selection import cross_val_score\n",
        "import numpy as np\n",
        "\n",
        "# Define your transformer here if it's not already defined\n",
        "# transformer = ...\n",
        "\n",
        "# Define the pipeline with a placeholder regressor\n",
        "combined_pipeline = Pipeline(steps=[\n",
        "    (\"preprocessor\", transformer),  # Your preprocessing step\n",
        "    (\"regressor\", LinearRegression())  # Placeholder, will be replaced during search\n",
        "])\n",
        "\n",
        "# Hyperparameter grids with a few important parameters\n",
        "# 1. RandomForest with RandomizedSearchCV\n",
        "\n",
        "\n",
        "# Ridge\n",
        "ridge_param_dist = {\n",
        "    \"regressor\": [Ridge()],\n",
        "    \"regressor__alpha\": np.logspace(-2, 1, 3),  # Fewer alpha values\n",
        "}\n",
        "knn_param_grid = {\n",
        "   \"regressor\": [KNeighborsRegressor()],\n",
        "    \"regressor__n_neighbors\": [1,3, 5, 7],  # Fewer values for neighbors\n",
        "    \"regressor__weights\": ['uniform', 'distance'],  # Try uniform first\n",
        "    \"regressor__p\": [1,2] ,\n",
        "}\n",
        "rf_param_dist = {\n",
        "    \"regressor\": [RandomForestRegressor()],\n",
        "    \"regressor__n_estimators\": [100, 200],\n",
        "    \"regressor__max_depth\": [10, 20]\n",
        "}\n",
        "\n",
        "# LinearRegression does not have hyperparameters, so no param grid is needed\n",
        "\n",
        "# Search configurations\n",
        "\n",
        "linear_search = GridSearchCV(combined_pipeline, param_grid={}, cv=3)\n",
        "ridge_search = HalvingRandomSearchCV(combined_pipeline, param_distributions=ridge_param_dist, n_candidates=50, cv=3, random_state=42)\n",
        "knn_search = GridSearchCV(combined_pipeline, param_grid=knn_param_grid, cv=3)\n",
        "rf_search = RandomizedSearchCV(combined_pipeline, param_distributions=rf_param_dist, n_iter=10, cv=3, random_state=42)\n",
        "\n",
        "# Fit the models\n",
        "\n",
        "\n",
        "linear_search.fit(X_train, y_train)\n",
        "\n",
        "\n",
        "ridge_search.fit(X_train, y_train)\n",
        "print(\"Ridge done\")\n",
        "\n",
        "knn_search.fit(X_train, y_train)\n",
        "print(\"KNN done\")\n",
        "\n",
        "rf_search.fit(X_train, y_train)\n",
        "print(\"RF done\")\n",
        "\n",
        "\n",
        "# Output the best models and their parameters\n",
        "best_models = [\n",
        "\n",
        "    {\"model\": linear_search.best_estimator_, \"parameters\": linear_search.best_params_},\n",
        "    {\"model\": ridge_search.best_estimator_, \"parameters\": ridge_search.best_params_},\n",
        "    {\"model\": knn_search.best_estimator_, \"parameters\": knn_search.best_params_},\n",
        "    {\"model\": rf_search.best_estimator_, \"parameters\": rf_search.best_params_},\n",
        "]\n",
        "\n",
        "from tabulate import tabulate\n",
        "import pandas as pd\n",
        "\n",
        "# Initialize an empty DataFrame to store the evaluation metrics\n",
        "metrics_df = pd.DataFrame(columns=[\"Model\", \"MSE_Train\", \"MSE_Val\", \"MSE_Test\",\"MAE_Train\", \"MAE_Val\",\"MAE Test\", \"R2_Train\", \"R2_Val\",\"R2_Test\",\"RMSE_Train\",\"RMSE_Val\",\"RMSE_Test\" ])\n",
        "\n",
        "# Define the evaluation function and store the results in a DataFrame\n",
        "def evaluate_model(model, X_train, y_train, X_val, y_val,X_test, y_test, model_name):\n",
        "    # Predicting the target values using the model and validation features\n",
        "    y_predt = model.predict(X_train)\n",
        "    y_pred = model.predict(X_val)\n",
        "    y_predte = model.predict(X_test)\n",
        "\n",
        "    # Calculating errors and metrics\n",
        "    mset = mean_squared_error(y_train, y_predt)\n",
        "    mse = mean_squared_error(y_val, y_pred)\n",
        "    msete = mean_squared_error(y_test, y_predte)\n",
        "\n",
        "    maet = mean_absolute_error(y_train, y_predt)\n",
        "    mae = mean_absolute_error(y_val, y_pred)\n",
        "    maete = mean_absolute_error(y_test, y_predte)\n",
        "\n",
        "    r2t = r2_score(y_train, y_predt)\n",
        "    r2 = r2_score(y_val, y_pred)\n",
        "    r2te = r2_score(y_test, y_predte)\n",
        "\n",
        "    rmset = np.sqrt(mset)\n",
        "    rmse = np.sqrt(mse)\n",
        "    rmsete = np.sqrt(msete)\n",
        "\n",
        "    # Append the metrics to the DataFrame\n",
        "    metrics_df.loc[len(metrics_df)] = [\n",
        "        model_name,   # Model name\n",
        "        mset,         # MSE on training data\n",
        "        mse,          # MSE on validation data\n",
        "        msete,\n",
        "        maet,         # MAE on training data\n",
        "        mae,\n",
        "        maete,    # MAE on validation data\n",
        "        r2t,          # R2 on training data\n",
        "        r2,           # R2 on validation data\n",
        "        r2te,\n",
        "        rmset,        # RMSE on training data\n",
        "        rmse,         # RMSE on validation data\n",
        "        rmsete\n",
        "\n",
        "    ]\n",
        "\n",
        "# Evaluate all models\n",
        "for result in best_models:\n",
        "    model = result[\"model\"]\n",
        "    params = result[\"parameters\"]\n",
        "    model_name = type(model.named_steps['regressor']).__name__ if 'regressor' in model.named_steps else type(model).__name__\n",
        "\n",
        "    # Evaluate the model and store the results\n",
        "    evaluate_model(model, X_train, y_train, X_val, y_val,X_test, y_test, model_name)\n",
        "\n",
        "# Use tabulate to print the metrics DataFrame in a tabular format\n",
        "print(tabulate(metrics_df, headers='keys', tablefmt='grid'))\n",
        "\n"
      ],
      "metadata": {
        "colab": {
          "base_uri": "https://localhost:8080/"
        },
        "id": "K95t8qeBWMfN",
        "outputId": "7dbe3954-ac93-4683-b1a0-15a54cdb9175"
      },
      "execution_count": null,
      "outputs": [
        {
          "output_type": "stream",
          "name": "stdout",
          "text": [
            "Linear done\n",
            "Ridge done\n",
            "KNN done\n",
            "RF done\n",
            "+----+-----------------------+-------------+-----------+------------+-------------+-----------+------------+------------+----------+-----------+--------------+------------+-------------+\n",
            "|    | Model                 |   MSE_Train |   MSE_Val |   MSE_Test |   MAE_Train |   MAE_Val |   MAE Test |   R2_Train |   R2_Val |   R2_Test |   RMSE_Train |   RMSE_Val |   RMSE_Test |\n",
            "+====+=======================+=============+===========+============+=============+===========+============+============+==========+===========+==============+============+=============+\n",
            "|  0 | LinearRegression      |   107684    |  140927   |  108779    |    71.8811  |   81.324  |    71.2697 |   0.879097 | 0.907768 |  0.900455 |     328.152  |    375.403 |    329.816  |\n",
            "+----+-----------------------+-------------+-----------+------------+-------------+-----------+------------+------------+----------+-----------+--------------+------------+-------------+\n",
            "|  1 | Ridge                 |   107684    |  140986   |  108783    |    71.8771  |   81.3267 |    71.2679 |   0.879097 | 0.90773  |  0.900452 |     328.152  |    375.481 |    329.822  |\n",
            "+----+-----------------------+-------------+-----------+------------+-------------+-----------+------------+------------+----------+-----------+--------------+------------+-------------+\n",
            "|  2 | KNeighborsRegressor   |        0    |   10464.9 |    8381.17 |     0       |   12.7952 |     9.6945 |   1        | 0.993151 |  0.99233  |       0      |    102.298 |     91.5487 |\n",
            "+----+-----------------------+-------------+-----------+------------+-------------+-----------+------------+------------+----------+-----------+--------------+------------+-------------+\n",
            "|  3 | RandomForestRegressor |     1756.27 |   31340.7 |   25794.4  |     3.05114 |   14.6235 |    14.1549 |   0.998028 | 0.979489 |  0.976395 |      41.9079 |    177.033 |    160.606  |\n",
            "+----+-----------------------+-------------+-----------+------------+-------------+-----------+------------+------------+----------+-----------+--------------+------------+-------------+\n"
          ]
        }
      ]
    },
    {
      "cell_type": "code",
      "source": [
        "combined_pipeline"
      ],
      "metadata": {
        "colab": {
          "base_uri": "https://localhost:8080/",
          "height": 191
        },
        "id": "osP1o996gcU8",
        "outputId": "452cc4a8-3008-44e2-d89b-51930ca41283"
      },
      "execution_count": null,
      "outputs": [
        {
          "output_type": "execute_result",
          "data": {
            "text/plain": [
              "Pipeline(steps=[('preprocessor',\n",
              "                 ColumnTransformer(remainder='passthrough',\n",
              "                                   transformers=[('One_hot',\n",
              "                                                  OneHotEncoder(handle_unknown='ignore',\n",
              "                                                                sparse_output=False),\n",
              "                                                  ['Crop', 'Season', 'State',\n",
              "                                                   'Crop_Year']),\n",
              "                                                 ('std_sca', StandardScaler(),\n",
              "                                                  ['Area', 'Production',\n",
              "                                                   'Annual_Rainfall',\n",
              "                                                   'Fertilizer',\n",
              "                                                   'Pesticide'])])),\n",
              "                ('regressor', LinearRegression())])"
            ],
            "text/html": [
              "<style>#sk-container-id-1 {color: black;}#sk-container-id-1 pre{padding: 0;}#sk-container-id-1 div.sk-toggleable {background-color: white;}#sk-container-id-1 label.sk-toggleable__label {cursor: pointer;display: block;width: 100%;margin-bottom: 0;padding: 0.3em;box-sizing: border-box;text-align: center;}#sk-container-id-1 label.sk-toggleable__label-arrow:before {content: \"▸\";float: left;margin-right: 0.25em;color: #696969;}#sk-container-id-1 label.sk-toggleable__label-arrow:hover:before {color: black;}#sk-container-id-1 div.sk-estimator:hover label.sk-toggleable__label-arrow:before {color: black;}#sk-container-id-1 div.sk-toggleable__content {max-height: 0;max-width: 0;overflow: hidden;text-align: left;background-color: #f0f8ff;}#sk-container-id-1 div.sk-toggleable__content pre {margin: 0.2em;color: black;border-radius: 0.25em;background-color: #f0f8ff;}#sk-container-id-1 input.sk-toggleable__control:checked~div.sk-toggleable__content {max-height: 200px;max-width: 100%;overflow: auto;}#sk-container-id-1 input.sk-toggleable__control:checked~label.sk-toggleable__label-arrow:before {content: \"▾\";}#sk-container-id-1 div.sk-estimator input.sk-toggleable__control:checked~label.sk-toggleable__label {background-color: #d4ebff;}#sk-container-id-1 div.sk-label input.sk-toggleable__control:checked~label.sk-toggleable__label {background-color: #d4ebff;}#sk-container-id-1 input.sk-hidden--visually {border: 0;clip: rect(1px 1px 1px 1px);clip: rect(1px, 1px, 1px, 1px);height: 1px;margin: -1px;overflow: hidden;padding: 0;position: absolute;width: 1px;}#sk-container-id-1 div.sk-estimator {font-family: monospace;background-color: #f0f8ff;border: 1px dotted black;border-radius: 0.25em;box-sizing: border-box;margin-bottom: 0.5em;}#sk-container-id-1 div.sk-estimator:hover {background-color: #d4ebff;}#sk-container-id-1 div.sk-parallel-item::after {content: \"\";width: 100%;border-bottom: 1px solid gray;flex-grow: 1;}#sk-container-id-1 div.sk-label:hover label.sk-toggleable__label {background-color: #d4ebff;}#sk-container-id-1 div.sk-serial::before {content: \"\";position: absolute;border-left: 1px solid gray;box-sizing: border-box;top: 0;bottom: 0;left: 50%;z-index: 0;}#sk-container-id-1 div.sk-serial {display: flex;flex-direction: column;align-items: center;background-color: white;padding-right: 0.2em;padding-left: 0.2em;position: relative;}#sk-container-id-1 div.sk-item {position: relative;z-index: 1;}#sk-container-id-1 div.sk-parallel {display: flex;align-items: stretch;justify-content: center;background-color: white;position: relative;}#sk-container-id-1 div.sk-item::before, #sk-container-id-1 div.sk-parallel-item::before {content: \"\";position: absolute;border-left: 1px solid gray;box-sizing: border-box;top: 0;bottom: 0;left: 50%;z-index: -1;}#sk-container-id-1 div.sk-parallel-item {display: flex;flex-direction: column;z-index: 1;position: relative;background-color: white;}#sk-container-id-1 div.sk-parallel-item:first-child::after {align-self: flex-end;width: 50%;}#sk-container-id-1 div.sk-parallel-item:last-child::after {align-self: flex-start;width: 50%;}#sk-container-id-1 div.sk-parallel-item:only-child::after {width: 0;}#sk-container-id-1 div.sk-dashed-wrapped {border: 1px dashed gray;margin: 0 0.4em 0.5em 0.4em;box-sizing: border-box;padding-bottom: 0.4em;background-color: white;}#sk-container-id-1 div.sk-label label {font-family: monospace;font-weight: bold;display: inline-block;line-height: 1.2em;}#sk-container-id-1 div.sk-label-container {text-align: center;}#sk-container-id-1 div.sk-container {/* jupyter's `normalize.less` sets `[hidden] { display: none; }` but bootstrap.min.css set `[hidden] { display: none !important; }` so we also need the `!important` here to be able to override the default hidden behavior on the sphinx rendered scikit-learn.org. See: https://github.com/scikit-learn/scikit-learn/issues/21755 */display: inline-block !important;position: relative;}#sk-container-id-1 div.sk-text-repr-fallback {display: none;}</style><div id=\"sk-container-id-1\" class=\"sk-top-container\"><div class=\"sk-text-repr-fallback\"><pre>Pipeline(steps=[(&#x27;preprocessor&#x27;,\n",
              "                 ColumnTransformer(remainder=&#x27;passthrough&#x27;,\n",
              "                                   transformers=[(&#x27;One_hot&#x27;,\n",
              "                                                  OneHotEncoder(handle_unknown=&#x27;ignore&#x27;,\n",
              "                                                                sparse_output=False),\n",
              "                                                  [&#x27;Crop&#x27;, &#x27;Season&#x27;, &#x27;State&#x27;,\n",
              "                                                   &#x27;Crop_Year&#x27;]),\n",
              "                                                 (&#x27;std_sca&#x27;, StandardScaler(),\n",
              "                                                  [&#x27;Area&#x27;, &#x27;Production&#x27;,\n",
              "                                                   &#x27;Annual_Rainfall&#x27;,\n",
              "                                                   &#x27;Fertilizer&#x27;,\n",
              "                                                   &#x27;Pesticide&#x27;])])),\n",
              "                (&#x27;regressor&#x27;, LinearRegression())])</pre><b>In a Jupyter environment, please rerun this cell to show the HTML representation or trust the notebook. <br />On GitHub, the HTML representation is unable to render, please try loading this page with nbviewer.org.</b></div><div class=\"sk-container\" hidden><div class=\"sk-item sk-dashed-wrapped\"><div class=\"sk-label-container\"><div class=\"sk-label sk-toggleable\"><input class=\"sk-toggleable__control sk-hidden--visually\" id=\"sk-estimator-id-1\" type=\"checkbox\" ><label for=\"sk-estimator-id-1\" class=\"sk-toggleable__label sk-toggleable__label-arrow\">Pipeline</label><div class=\"sk-toggleable__content\"><pre>Pipeline(steps=[(&#x27;preprocessor&#x27;,\n",
              "                 ColumnTransformer(remainder=&#x27;passthrough&#x27;,\n",
              "                                   transformers=[(&#x27;One_hot&#x27;,\n",
              "                                                  OneHotEncoder(handle_unknown=&#x27;ignore&#x27;,\n",
              "                                                                sparse_output=False),\n",
              "                                                  [&#x27;Crop&#x27;, &#x27;Season&#x27;, &#x27;State&#x27;,\n",
              "                                                   &#x27;Crop_Year&#x27;]),\n",
              "                                                 (&#x27;std_sca&#x27;, StandardScaler(),\n",
              "                                                  [&#x27;Area&#x27;, &#x27;Production&#x27;,\n",
              "                                                   &#x27;Annual_Rainfall&#x27;,\n",
              "                                                   &#x27;Fertilizer&#x27;,\n",
              "                                                   &#x27;Pesticide&#x27;])])),\n",
              "                (&#x27;regressor&#x27;, LinearRegression())])</pre></div></div></div><div class=\"sk-serial\"><div class=\"sk-item sk-dashed-wrapped\"><div class=\"sk-label-container\"><div class=\"sk-label sk-toggleable\"><input class=\"sk-toggleable__control sk-hidden--visually\" id=\"sk-estimator-id-2\" type=\"checkbox\" ><label for=\"sk-estimator-id-2\" class=\"sk-toggleable__label sk-toggleable__label-arrow\">preprocessor: ColumnTransformer</label><div class=\"sk-toggleable__content\"><pre>ColumnTransformer(remainder=&#x27;passthrough&#x27;,\n",
              "                  transformers=[(&#x27;One_hot&#x27;,\n",
              "                                 OneHotEncoder(handle_unknown=&#x27;ignore&#x27;,\n",
              "                                               sparse_output=False),\n",
              "                                 [&#x27;Crop&#x27;, &#x27;Season&#x27;, &#x27;State&#x27;, &#x27;Crop_Year&#x27;]),\n",
              "                                (&#x27;std_sca&#x27;, StandardScaler(),\n",
              "                                 [&#x27;Area&#x27;, &#x27;Production&#x27;, &#x27;Annual_Rainfall&#x27;,\n",
              "                                  &#x27;Fertilizer&#x27;, &#x27;Pesticide&#x27;])])</pre></div></div></div><div class=\"sk-parallel\"><div class=\"sk-parallel-item\"><div class=\"sk-item\"><div class=\"sk-label-container\"><div class=\"sk-label sk-toggleable\"><input class=\"sk-toggleable__control sk-hidden--visually\" id=\"sk-estimator-id-3\" type=\"checkbox\" ><label for=\"sk-estimator-id-3\" class=\"sk-toggleable__label sk-toggleable__label-arrow\">One_hot</label><div class=\"sk-toggleable__content\"><pre>[&#x27;Crop&#x27;, &#x27;Season&#x27;, &#x27;State&#x27;, &#x27;Crop_Year&#x27;]</pre></div></div></div><div class=\"sk-serial\"><div class=\"sk-item\"><div class=\"sk-estimator sk-toggleable\"><input class=\"sk-toggleable__control sk-hidden--visually\" id=\"sk-estimator-id-4\" type=\"checkbox\" ><label for=\"sk-estimator-id-4\" class=\"sk-toggleable__label sk-toggleable__label-arrow\">OneHotEncoder</label><div class=\"sk-toggleable__content\"><pre>OneHotEncoder(handle_unknown=&#x27;ignore&#x27;, sparse_output=False)</pre></div></div></div></div></div></div><div class=\"sk-parallel-item\"><div class=\"sk-item\"><div class=\"sk-label-container\"><div class=\"sk-label sk-toggleable\"><input class=\"sk-toggleable__control sk-hidden--visually\" id=\"sk-estimator-id-5\" type=\"checkbox\" ><label for=\"sk-estimator-id-5\" class=\"sk-toggleable__label sk-toggleable__label-arrow\">std_sca</label><div class=\"sk-toggleable__content\"><pre>[&#x27;Area&#x27;, &#x27;Production&#x27;, &#x27;Annual_Rainfall&#x27;, &#x27;Fertilizer&#x27;, &#x27;Pesticide&#x27;]</pre></div></div></div><div class=\"sk-serial\"><div class=\"sk-item\"><div class=\"sk-estimator sk-toggleable\"><input class=\"sk-toggleable__control sk-hidden--visually\" id=\"sk-estimator-id-6\" type=\"checkbox\" ><label for=\"sk-estimator-id-6\" class=\"sk-toggleable__label sk-toggleable__label-arrow\">StandardScaler</label><div class=\"sk-toggleable__content\"><pre>StandardScaler()</pre></div></div></div></div></div></div><div class=\"sk-parallel-item\"><div class=\"sk-item\"><div class=\"sk-label-container\"><div class=\"sk-label sk-toggleable\"><input class=\"sk-toggleable__control sk-hidden--visually\" id=\"sk-estimator-id-7\" type=\"checkbox\" ><label for=\"sk-estimator-id-7\" class=\"sk-toggleable__label sk-toggleable__label-arrow\">remainder</label><div class=\"sk-toggleable__content\"><pre></pre></div></div></div><div class=\"sk-serial\"><div class=\"sk-item\"><div class=\"sk-estimator sk-toggleable\"><input class=\"sk-toggleable__control sk-hidden--visually\" id=\"sk-estimator-id-8\" type=\"checkbox\" ><label for=\"sk-estimator-id-8\" class=\"sk-toggleable__label sk-toggleable__label-arrow\">passthrough</label><div class=\"sk-toggleable__content\"><pre>passthrough</pre></div></div></div></div></div></div></div></div><div class=\"sk-item\"><div class=\"sk-estimator sk-toggleable\"><input class=\"sk-toggleable__control sk-hidden--visually\" id=\"sk-estimator-id-9\" type=\"checkbox\" ><label for=\"sk-estimator-id-9\" class=\"sk-toggleable__label sk-toggleable__label-arrow\">LinearRegression</label><div class=\"sk-toggleable__content\"><pre>LinearRegression()</pre></div></div></div></div></div></div></div>"
            ]
          },
          "metadata": {},
          "execution_count": 11
        }
      ]
    },
    {
      "cell_type": "code",
      "source": [
        "# Dictionary to hold individual DataFrames for each model\n",
        "model_metrics_tables = {}\n",
        "\n",
        "# Define the evaluation function and store the results in separate DataFrames\n",
        "def evaluate_model(model, X_train, y_train, X_val, y_val, X_test, y_test, model_name):\n",
        "    # Predicting the target values using the model and validation features\n",
        "    y_predt = model.predict(X_train)\n",
        "    y_pred = model.predict(X_val)\n",
        "    y_predte = model.predict(X_test)\n",
        "\n",
        "    # Calculating errors and metrics\n",
        "    mset = mean_squared_error(y_train, y_predt)\n",
        "    mse = mean_squared_error(y_val, y_pred)\n",
        "    msete = mean_squared_error(y_test, y_predte)\n",
        "\n",
        "    maet = mean_absolute_error(y_train, y_predt)\n",
        "    mae = mean_absolute_error(y_val, y_pred)\n",
        "    maete = mean_absolute_error(y_test, y_predte)\n",
        "\n",
        "    r2t = r2_score(y_train, y_predt)\n",
        "    r2 = r2_score(y_val, y_pred)\n",
        "    r2te = r2_score(y_test, y_predte)\n",
        "\n",
        "    rmset = np.sqrt(mset)\n",
        "    rmse = np.sqrt(mse)\n",
        "    rmsete = np.sqrt(msete)\n",
        "\n",
        "    # Create a new DataFrame to store the metrics for the current model\n",
        "    metrics_df = pd.DataFrame({\n",
        "        \"Metric\": [\"MSE\", \"MAE\", \"R²\", \"RMSE\"],\n",
        "        \"Train\": [mset, maet, r2t, rmset],\n",
        "        \"Validation\": [mse, mae, r2, rmse],\n",
        "        \"Test\": [msete, maete, r2te, rmsete]\n",
        "    })\n",
        "\n",
        "    # Store the DataFrame in the dictionary with the model name as the key\n",
        "    model_metrics_tables[model_name] = metrics_df\n",
        "\n",
        "# Evaluate all models\n",
        "for result in best_models:\n",
        "    model = result[\"model\"]\n",
        "    model_name = type(model.named_steps['regressor']).__name__ if 'regressor' in model.named_steps else type(model).__name__\n",
        "\n",
        "    # Evaluate the model and store the results\n",
        "    evaluate_model(model, X_train, y_train, X_val, y_val, X_test, y_test, model_name)\n",
        "\n",
        "# Print each model's metrics table separately\n",
        "for model_name, metrics_df in model_metrics_tables.items():\n",
        "    print(f\"Metrics for {model_name}:\")\n",
        "    print(tabulate(metrics_df, headers='keys', tablefmt='grid'))\n",
        "    print(\"\\n\")\n"
      ],
      "metadata": {
        "colab": {
          "base_uri": "https://localhost:8080/"
        },
        "id": "XpPYIKZvggaW",
        "outputId": "42091be3-0b23-49e4-9412-b843a86b5d2e"
      },
      "execution_count": null,
      "outputs": [
        {
          "output_type": "stream",
          "name": "stdout",
          "text": [
            "Metrics for LinearRegression:\n",
            "+----+----------+---------------+---------------+---------------+\n",
            "|    | Metric   |         Train |    Validation |          Test |\n",
            "+====+==========+===============+===============+===============+\n",
            "|  0 | MSE      | 107684        | 140927        | 108779        |\n",
            "+----+----------+---------------+---------------+---------------+\n",
            "|  1 | MAE      |     71.8811   |     81.324    |     71.2697   |\n",
            "+----+----------+---------------+---------------+---------------+\n",
            "|  2 | R²       |      0.879097 |      0.907768 |      0.900455 |\n",
            "+----+----------+---------------+---------------+---------------+\n",
            "|  3 | RMSE     |    328.152    |    375.403    |    329.816    |\n",
            "+----+----------+---------------+---------------+---------------+\n",
            "\n",
            "\n",
            "Metrics for Ridge:\n",
            "+----+----------+---------------+--------------+---------------+\n",
            "|    | Metric   |         Train |   Validation |          Test |\n",
            "+====+==========+===============+==============+===============+\n",
            "|  0 | MSE      | 107684        | 140986       | 108783        |\n",
            "+----+----------+---------------+--------------+---------------+\n",
            "|  1 | MAE      |     71.8771   |     81.3267  |     71.2679   |\n",
            "+----+----------+---------------+--------------+---------------+\n",
            "|  2 | R²       |      0.879097 |      0.90773 |      0.900452 |\n",
            "+----+----------+---------------+--------------+---------------+\n",
            "|  3 | RMSE     |    328.152    |    375.481   |    329.822    |\n",
            "+----+----------+---------------+--------------+---------------+\n",
            "\n",
            "\n",
            "Metrics for KNeighborsRegressor:\n",
            "+----+----------+---------+--------------+------------+\n",
            "|    | Metric   |   Train |   Validation |       Test |\n",
            "+====+==========+=========+==============+============+\n",
            "|  0 | MSE      |       0 | 10464.9      | 8381.17    |\n",
            "+----+----------+---------+--------------+------------+\n",
            "|  1 | MAE      |       0 |    12.7952   |    9.6945  |\n",
            "+----+----------+---------+--------------+------------+\n",
            "|  2 | R²       |       1 |     0.993151 |    0.99233 |\n",
            "+----+----------+---------+--------------+------------+\n",
            "|  3 | RMSE     |       0 |   102.298    |   91.5487  |\n",
            "+----+----------+---------+--------------+------------+\n",
            "\n",
            "\n",
            "Metrics for RandomForestRegressor:\n",
            "+----+----------+-------------+--------------+--------------+\n",
            "|    | Metric   |       Train |   Validation |         Test |\n",
            "+====+==========+=============+==============+==============+\n",
            "|  0 | MSE      | 1756.27     | 31340.7      | 25794.4      |\n",
            "+----+----------+-------------+--------------+--------------+\n",
            "|  1 | MAE      |    3.05114  |    14.6235   |    14.1549   |\n",
            "+----+----------+-------------+--------------+--------------+\n",
            "|  2 | R²       |    0.998028 |     0.979489 |     0.976395 |\n",
            "+----+----------+-------------+--------------+--------------+\n",
            "|  3 | RMSE     |   41.9079   |   177.033    |   160.606    |\n",
            "+----+----------+-------------+--------------+--------------+\n",
            "\n",
            "\n"
          ]
        }
      ]
    }
  ]
}